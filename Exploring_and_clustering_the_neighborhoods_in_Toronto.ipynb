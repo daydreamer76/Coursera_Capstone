{
 "cells": [
  {
   "cell_type": "markdown",
   "metadata": {},
   "source": [
    "## Peer-graded Assignment: Segmenting and Clustering Neighborhoods in Toronto"
   ]
  },
  {
   "cell_type": "markdown",
   "metadata": {},
   "source": [
    "The needed libraries are imported, among them requests to fetch the file and BeautifulSoup to parse it"
   ]
  },
  {
   "cell_type": "code",
   "execution_count": 80,
   "metadata": {},
   "outputs": [],
   "source": [
    "# importing libraries\n",
    "import pandas as pd\n",
    "import numpy as np\n",
    "import requests\n",
    "from bs4 import BeautifulSoup as BS"
   ]
  },
  {
   "cell_type": "markdown",
   "metadata": {},
   "source": [
    "Using request to fetch the file"
   ]
  },
  {
   "cell_type": "code",
   "execution_count": 81,
   "metadata": {},
   "outputs": [],
   "source": [
    "#loading text from the web page\n",
    "\n",
    "# source url\n",
    "url = \"https://en.wikipedia.org/wiki/List_of_postal_codes_of_Canada:_M\"\n",
    "\n",
    "# performing the request\n",
    "file = requests.get(url).text\n"
   ]
  },
  {
   "cell_type": "markdown",
   "metadata": {},
   "source": [
    "Parsing the text with Beautiful Soup and retrieving the data table"
   ]
  },
  {
   "cell_type": "code",
   "execution_count": 82,
   "metadata": {},
   "outputs": [],
   "source": [
    "# parsing data with Beautiful Soup\n",
    "parsable_file = BS(file, 'lxml')\n",
    "\n",
    "# retrieving the table\n",
    "data_table = parsable_file.find('table')"
   ]
  },
  {
   "cell_type": "markdown",
   "metadata": {},
   "source": [
    "Converting the table into a dataframe"
   ]
  },
  {
   "cell_type": "code",
   "execution_count": 83,
   "metadata": {},
   "outputs": [
    {
     "data": {
      "text/plain": [
       "[    Postcode           Borough  \\\n",
       " 0        M1A      Not assigned   \n",
       " 1        M2A      Not assigned   \n",
       " 2        M3A        North York   \n",
       " 3        M4A        North York   \n",
       " 4        M5A  Downtown Toronto   \n",
       " 5        M5A  Downtown Toronto   \n",
       " 6        M6A        North York   \n",
       " 7        M6A        North York   \n",
       " 8        M7A      Queen's Park   \n",
       " 9        M8A      Not assigned   \n",
       " 10       M9A         Etobicoke   \n",
       " 11       M1B       Scarborough   \n",
       " 12       M1B       Scarborough   \n",
       " 13       M2B      Not assigned   \n",
       " 14       M3B        North York   \n",
       " 15       M4B         East York   \n",
       " 16       M4B         East York   \n",
       " 17       M5B  Downtown Toronto   \n",
       " 18       M5B  Downtown Toronto   \n",
       " 19       M6B        North York   \n",
       " 20       M7B      Not assigned   \n",
       " 21       M8B      Not assigned   \n",
       " 22       M9B         Etobicoke   \n",
       " 23       M9B         Etobicoke   \n",
       " 24       M9B         Etobicoke   \n",
       " 25       M9B         Etobicoke   \n",
       " 26       M9B         Etobicoke   \n",
       " 27       M1C       Scarborough   \n",
       " 28       M1C       Scarborough   \n",
       " 29       M1C       Scarborough   \n",
       " ..       ...               ...   \n",
       " 258      M9X      Not assigned   \n",
       " 259      M1Y      Not assigned   \n",
       " 260      M2Y      Not assigned   \n",
       " 261      M3Y      Not assigned   \n",
       " 262      M4Y  Downtown Toronto   \n",
       " 263      M5Y      Not assigned   \n",
       " 264      M6Y      Not assigned   \n",
       " 265      M7Y      East Toronto   \n",
       " 266      M8Y         Etobicoke   \n",
       " 267      M8Y         Etobicoke   \n",
       " 268      M8Y         Etobicoke   \n",
       " 269      M8Y         Etobicoke   \n",
       " 270      M8Y         Etobicoke   \n",
       " 271      M8Y         Etobicoke   \n",
       " 272      M8Y         Etobicoke   \n",
       " 273      M8Y         Etobicoke   \n",
       " 274      M9Y      Not assigned   \n",
       " 275      M1Z      Not assigned   \n",
       " 276      M2Z      Not assigned   \n",
       " 277      M3Z      Not assigned   \n",
       " 278      M4Z      Not assigned   \n",
       " 279      M5Z      Not assigned   \n",
       " 280      M6Z      Not assigned   \n",
       " 281      M7Z      Not assigned   \n",
       " 282      M8Z         Etobicoke   \n",
       " 283      M8Z         Etobicoke   \n",
       " 284      M8Z         Etobicoke   \n",
       " 285      M8Z         Etobicoke   \n",
       " 286      M8Z         Etobicoke   \n",
       " 287      M9Z      Not assigned   \n",
       " \n",
       "                                          Neighbourhood  \n",
       " 0                                         Not assigned  \n",
       " 1                                         Not assigned  \n",
       " 2                                            Parkwoods  \n",
       " 3                                     Victoria Village  \n",
       " 4                                         Harbourfront  \n",
       " 5                                          Regent Park  \n",
       " 6                                     Lawrence Heights  \n",
       " 7                                       Lawrence Manor  \n",
       " 8                                         Not assigned  \n",
       " 9                                         Not assigned  \n",
       " 10                                    Islington Avenue  \n",
       " 11                                               Rouge  \n",
       " 12                                             Malvern  \n",
       " 13                                        Not assigned  \n",
       " 14                                     Don Mills North  \n",
       " 15                                    Woodbine Gardens  \n",
       " 16                                       Parkview Hill  \n",
       " 17                                             Ryerson  \n",
       " 18                                     Garden District  \n",
       " 19                                           Glencairn  \n",
       " 20                                        Not assigned  \n",
       " 21                                        Not assigned  \n",
       " 22                                          Cloverdale  \n",
       " 23                                           Islington  \n",
       " 24                                        Martin Grove  \n",
       " 25                                    Princess Gardens  \n",
       " 26                                     West Deane Park  \n",
       " 27                                      Highland Creek  \n",
       " 28                                          Rouge Hill  \n",
       " 29                                          Port Union  \n",
       " ..                                                 ...  \n",
       " 258                                       Not assigned  \n",
       " 259                                       Not assigned  \n",
       " 260                                       Not assigned  \n",
       " 261                                       Not assigned  \n",
       " 262                               Church and Wellesley  \n",
       " 263                                       Not assigned  \n",
       " 264                                       Not assigned  \n",
       " 265  Business Reply Mail Processing Centre 969 Eastern  \n",
       " 266                                         Humber Bay  \n",
       " 267                                   King's Mill Park  \n",
       " 268                           Kingsway Park South East  \n",
       " 269                                          Mimico NE  \n",
       " 270                                     Old Mill South  \n",
       " 271                                 The Queensway East  \n",
       " 272                              Royal York South East  \n",
       " 273                                           Sunnylea  \n",
       " 274                                       Not assigned  \n",
       " 275                                       Not assigned  \n",
       " 276                                       Not assigned  \n",
       " 277                                       Not assigned  \n",
       " 278                                       Not assigned  \n",
       " 279                                       Not assigned  \n",
       " 280                                       Not assigned  \n",
       " 281                                       Not assigned  \n",
       " 282                           Kingsway Park South West  \n",
       " 283                                          Mimico NW  \n",
       " 284                                 The Queensway West  \n",
       " 285                              Royal York South West  \n",
       " 286                                     South of Bloor  \n",
       " 287                                       Not assigned  \n",
       " \n",
       " [288 rows x 3 columns]]"
      ]
     },
     "execution_count": 83,
     "metadata": {},
     "output_type": "execute_result"
    }
   ],
   "source": [
    "# converting the table into a list\n",
    "list = pd.read_html(str(data_table), header=0)\n",
    "list"
   ]
  },
  {
   "cell_type": "code",
   "execution_count": 84,
   "metadata": {},
   "outputs": [
    {
     "data": {
      "text/html": [
       "<div>\n",
       "<style scoped>\n",
       "    .dataframe tbody tr th:only-of-type {\n",
       "        vertical-align: middle;\n",
       "    }\n",
       "\n",
       "    .dataframe tbody tr th {\n",
       "        vertical-align: top;\n",
       "    }\n",
       "\n",
       "    .dataframe thead th {\n",
       "        text-align: right;\n",
       "    }\n",
       "</style>\n",
       "<table border=\"1\" class=\"dataframe\">\n",
       "  <thead>\n",
       "    <tr style=\"text-align: right;\">\n",
       "      <th></th>\n",
       "      <th>Postcode</th>\n",
       "      <th>Borough</th>\n",
       "      <th>Neighbourhood</th>\n",
       "    </tr>\n",
       "  </thead>\n",
       "  <tbody>\n",
       "    <tr>\n",
       "      <th>0</th>\n",
       "      <td>M1A</td>\n",
       "      <td>Not assigned</td>\n",
       "      <td>Not assigned</td>\n",
       "    </tr>\n",
       "    <tr>\n",
       "      <th>1</th>\n",
       "      <td>M2A</td>\n",
       "      <td>Not assigned</td>\n",
       "      <td>Not assigned</td>\n",
       "    </tr>\n",
       "    <tr>\n",
       "      <th>2</th>\n",
       "      <td>M3A</td>\n",
       "      <td>North York</td>\n",
       "      <td>Parkwoods</td>\n",
       "    </tr>\n",
       "    <tr>\n",
       "      <th>3</th>\n",
       "      <td>M4A</td>\n",
       "      <td>North York</td>\n",
       "      <td>Victoria Village</td>\n",
       "    </tr>\n",
       "    <tr>\n",
       "      <th>4</th>\n",
       "      <td>M5A</td>\n",
       "      <td>Downtown Toronto</td>\n",
       "      <td>Harbourfront</td>\n",
       "    </tr>\n",
       "  </tbody>\n",
       "</table>\n",
       "</div>"
      ],
      "text/plain": [
       "  Postcode           Borough     Neighbourhood\n",
       "0      M1A      Not assigned      Not assigned\n",
       "1      M2A      Not assigned      Not assigned\n",
       "2      M3A        North York         Parkwoods\n",
       "3      M4A        North York  Victoria Village\n",
       "4      M5A  Downtown Toronto      Harbourfront"
      ]
     },
     "execution_count": 84,
     "metadata": {},
     "output_type": "execute_result"
    }
   ],
   "source": [
    "# converting the list into a dataframe\n",
    "df = list[0]\n",
    "df.head()"
   ]
  },
  {
   "cell_type": "markdown",
   "metadata": {},
   "source": [
    "Ignoring the rows with a not assigned borough"
   ]
  },
  {
   "cell_type": "code",
   "execution_count": 85,
   "metadata": {},
   "outputs": [
    {
     "data": {
      "text/html": [
       "<div>\n",
       "<style scoped>\n",
       "    .dataframe tbody tr th:only-of-type {\n",
       "        vertical-align: middle;\n",
       "    }\n",
       "\n",
       "    .dataframe tbody tr th {\n",
       "        vertical-align: top;\n",
       "    }\n",
       "\n",
       "    .dataframe thead th {\n",
       "        text-align: right;\n",
       "    }\n",
       "</style>\n",
       "<table border=\"1\" class=\"dataframe\">\n",
       "  <thead>\n",
       "    <tr style=\"text-align: right;\">\n",
       "      <th></th>\n",
       "      <th>index</th>\n",
       "      <th>Postcode</th>\n",
       "      <th>Borough</th>\n",
       "      <th>Neighbourhood</th>\n",
       "    </tr>\n",
       "  </thead>\n",
       "  <tbody>\n",
       "    <tr>\n",
       "      <th>0</th>\n",
       "      <td>2</td>\n",
       "      <td>M3A</td>\n",
       "      <td>North York</td>\n",
       "      <td>Parkwoods</td>\n",
       "    </tr>\n",
       "    <tr>\n",
       "      <th>1</th>\n",
       "      <td>3</td>\n",
       "      <td>M4A</td>\n",
       "      <td>North York</td>\n",
       "      <td>Victoria Village</td>\n",
       "    </tr>\n",
       "    <tr>\n",
       "      <th>2</th>\n",
       "      <td>4</td>\n",
       "      <td>M5A</td>\n",
       "      <td>Downtown Toronto</td>\n",
       "      <td>Harbourfront</td>\n",
       "    </tr>\n",
       "    <tr>\n",
       "      <th>3</th>\n",
       "      <td>5</td>\n",
       "      <td>M5A</td>\n",
       "      <td>Downtown Toronto</td>\n",
       "      <td>Regent Park</td>\n",
       "    </tr>\n",
       "    <tr>\n",
       "      <th>4</th>\n",
       "      <td>6</td>\n",
       "      <td>M6A</td>\n",
       "      <td>North York</td>\n",
       "      <td>Lawrence Heights</td>\n",
       "    </tr>\n",
       "  </tbody>\n",
       "</table>\n",
       "</div>"
      ],
      "text/plain": [
       "   index Postcode           Borough     Neighbourhood\n",
       "0      2      M3A        North York         Parkwoods\n",
       "1      3      M4A        North York  Victoria Village\n",
       "2      4      M5A  Downtown Toronto      Harbourfront\n",
       "3      5      M5A  Downtown Toronto       Regent Park\n",
       "4      6      M6A        North York  Lawrence Heights"
      ]
     },
     "execution_count": 85,
     "metadata": {},
     "output_type": "execute_result"
    }
   ],
   "source": [
    "# ignoring the rows with a Borough equal to \"Not assigned\"\n",
    "df = df[df.Borough != \"Not assigned\"].reset_index()\n",
    "df.head()"
   ]
  },
  {
   "cell_type": "markdown",
   "metadata": {},
   "source": [
    "Combining in the same row the neighbourhoods corresponding to the same postcode"
   ]
  },
  {
   "cell_type": "code",
   "execution_count": 86,
   "metadata": {},
   "outputs": [
    {
     "data": {
      "text/html": [
       "<div>\n",
       "<style scoped>\n",
       "    .dataframe tbody tr th:only-of-type {\n",
       "        vertical-align: middle;\n",
       "    }\n",
       "\n",
       "    .dataframe tbody tr th {\n",
       "        vertical-align: top;\n",
       "    }\n",
       "\n",
       "    .dataframe thead th {\n",
       "        text-align: right;\n",
       "    }\n",
       "</style>\n",
       "<table border=\"1\" class=\"dataframe\">\n",
       "  <thead>\n",
       "    <tr style=\"text-align: right;\">\n",
       "      <th></th>\n",
       "      <th>Postcode</th>\n",
       "      <th>Borough</th>\n",
       "      <th>Neighbourhood</th>\n",
       "    </tr>\n",
       "  </thead>\n",
       "  <tbody>\n",
       "    <tr>\n",
       "      <th>0</th>\n",
       "      <td>M1B</td>\n",
       "      <td>Scarborough</td>\n",
       "      <td>Rouge,Malvern</td>\n",
       "    </tr>\n",
       "    <tr>\n",
       "      <th>1</th>\n",
       "      <td>M1C</td>\n",
       "      <td>Scarborough</td>\n",
       "      <td>Highland Creek,Rouge Hill,Port Union</td>\n",
       "    </tr>\n",
       "    <tr>\n",
       "      <th>2</th>\n",
       "      <td>M1E</td>\n",
       "      <td>Scarborough</td>\n",
       "      <td>Guildwood,Morningside,West Hill</td>\n",
       "    </tr>\n",
       "    <tr>\n",
       "      <th>3</th>\n",
       "      <td>M1G</td>\n",
       "      <td>Scarborough</td>\n",
       "      <td>Woburn</td>\n",
       "    </tr>\n",
       "    <tr>\n",
       "      <th>4</th>\n",
       "      <td>M1H</td>\n",
       "      <td>Scarborough</td>\n",
       "      <td>Cedarbrae</td>\n",
       "    </tr>\n",
       "  </tbody>\n",
       "</table>\n",
       "</div>"
      ],
      "text/plain": [
       "  Postcode      Borough                         Neighbourhood\n",
       "0      M1B  Scarborough                         Rouge,Malvern\n",
       "1      M1C  Scarborough  Highland Creek,Rouge Hill,Port Union\n",
       "2      M1E  Scarborough       Guildwood,Morningside,West Hill\n",
       "3      M1G  Scarborough                                Woburn\n",
       "4      M1H  Scarborough                             Cedarbrae"
      ]
     },
     "execution_count": 86,
     "metadata": {},
     "output_type": "execute_result"
    }
   ],
   "source": [
    "# grouping together all the neighbourhoods corresponding to the same postcode\n",
    "df = df.groupby(by=['Postcode','Borough'])['Neighbourhood'].apply(','.join).reset_index() \n",
    "df.head()"
   ]
  },
  {
   "cell_type": "markdown",
   "metadata": {},
   "source": [
    "Managing the not assigned neighbourhoods"
   ]
  },
  {
   "cell_type": "code",
   "execution_count": 87,
   "metadata": {},
   "outputs": [
    {
     "data": {
      "text/html": [
       "<div>\n",
       "<style scoped>\n",
       "    .dataframe tbody tr th:only-of-type {\n",
       "        vertical-align: middle;\n",
       "    }\n",
       "\n",
       "    .dataframe tbody tr th {\n",
       "        vertical-align: top;\n",
       "    }\n",
       "\n",
       "    .dataframe thead th {\n",
       "        text-align: right;\n",
       "    }\n",
       "</style>\n",
       "<table border=\"1\" class=\"dataframe\">\n",
       "  <thead>\n",
       "    <tr style=\"text-align: right;\">\n",
       "      <th></th>\n",
       "      <th>Postcode</th>\n",
       "      <th>Borough</th>\n",
       "      <th>Neighbourhood</th>\n",
       "    </tr>\n",
       "  </thead>\n",
       "  <tbody>\n",
       "    <tr>\n",
       "      <th>0</th>\n",
       "      <td>M1B</td>\n",
       "      <td>Scarborough</td>\n",
       "      <td>Rouge,Malvern</td>\n",
       "    </tr>\n",
       "    <tr>\n",
       "      <th>1</th>\n",
       "      <td>M1C</td>\n",
       "      <td>Scarborough</td>\n",
       "      <td>Highland Creek,Rouge Hill,Port Union</td>\n",
       "    </tr>\n",
       "    <tr>\n",
       "      <th>2</th>\n",
       "      <td>M1E</td>\n",
       "      <td>Scarborough</td>\n",
       "      <td>Guildwood,Morningside,West Hill</td>\n",
       "    </tr>\n",
       "    <tr>\n",
       "      <th>3</th>\n",
       "      <td>M1G</td>\n",
       "      <td>Scarborough</td>\n",
       "      <td>Woburn</td>\n",
       "    </tr>\n",
       "    <tr>\n",
       "      <th>4</th>\n",
       "      <td>M1H</td>\n",
       "      <td>Scarborough</td>\n",
       "      <td>Cedarbrae</td>\n",
       "    </tr>\n",
       "  </tbody>\n",
       "</table>\n",
       "</div>"
      ],
      "text/plain": [
       "  Postcode      Borough                         Neighbourhood\n",
       "0      M1B  Scarborough                         Rouge,Malvern\n",
       "1      M1C  Scarborough  Highland Creek,Rouge Hill,Port Union\n",
       "2      M1E  Scarborough       Guildwood,Morningside,West Hill\n",
       "3      M1G  Scarborough                                Woburn\n",
       "4      M1H  Scarborough                             Cedarbrae"
      ]
     },
     "execution_count": 87,
     "metadata": {},
     "output_type": "execute_result"
    }
   ],
   "source": [
    "# substituting the corresponding borough value into the not assigned neighbourhoods\n",
    "for i, neighbourhood in enumerate(df.Neighbourhood):\n",
    "    if neighbourhood == 'Not assigned':\n",
    "        df.Neighbourhood[i] = df.Borough[i]\n",
    "df.head()"
   ]
  },
  {
   "cell_type": "markdown",
   "metadata": {},
   "source": [
    "Showing the final dataframe shape"
   ]
  },
  {
   "cell_type": "code",
   "execution_count": 88,
   "metadata": {},
   "outputs": [
    {
     "data": {
      "text/plain": [
       "(103, 3)"
      ]
     },
     "execution_count": 88,
     "metadata": {},
     "output_type": "execute_result"
    }
   ],
   "source": [
    "df.shape"
   ]
  }
 ],
 "metadata": {
  "kernelspec": {
   "display_name": "Python 3",
   "language": "python",
   "name": "python3"
  },
  "language_info": {
   "codemirror_mode": {
    "name": "ipython",
    "version": 3
   },
   "file_extension": ".py",
   "mimetype": "text/x-python",
   "name": "python",
   "nbconvert_exporter": "python",
   "pygments_lexer": "ipython3",
   "version": "3.7.4"
  }
 },
 "nbformat": 4,
 "nbformat_minor": 2
}
